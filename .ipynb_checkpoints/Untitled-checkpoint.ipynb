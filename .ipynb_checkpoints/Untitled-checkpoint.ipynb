{
 "cells": [
  {
   "cell_type": "code",
   "execution_count": 1,
   "id": "e7409146-2da9-4d6d-a27d-6996638b1286",
   "metadata": {},
   "outputs": [],
   "source": [
    "import numpy as np\n",
    "import pandas as pd\n",
    "import csv\n"
   ]
  },
  {
   "cell_type": "code",
   "execution_count": 31,
   "id": "4d7642e7-1406-497b-ae1a-d5cb8e9c304b",
   "metadata": {},
   "outputs": [
    {
     "ename": "UnicodeDecodeError",
     "evalue": "'big5' codec can't decode byte 0xc8 in position 0: illegal multibyte sequence",
     "output_type": "error",
     "traceback": [
      "\u001b[1;31m---------------------------------------------------------------------------\u001b[0m",
      "\u001b[1;31mUnicodeDecodeError\u001b[0m                        Traceback (most recent call last)",
      "Cell \u001b[1;32mIn[31], line 2\u001b[0m\n\u001b[0;32m      1\u001b[0m \u001b[38;5;66;03m# 加载训练数据\u001b[39;00m\n\u001b[1;32m----> 2\u001b[0m train_data \u001b[38;5;241m=\u001b[39m pd\u001b[38;5;241m.\u001b[39mread_csv(\u001b[38;5;124m'\u001b[39m\u001b[38;5;124mtrain.csv\u001b[39m\u001b[38;5;124m'\u001b[39m, encoding\u001b[38;5;241m=\u001b[39m\u001b[38;5;124m'\u001b[39m\u001b[38;5;124mBig5\u001b[39m\u001b[38;5;124m'\u001b[39m)\n\u001b[0;32m      3\u001b[0m test_data \u001b[38;5;241m=\u001b[39m pd\u001b[38;5;241m.\u001b[39mread_csv(\u001b[38;5;124m'\u001b[39m\u001b[38;5;124mtest.csv\u001b[39m\u001b[38;5;124m'\u001b[39m, encoding\u001b[38;5;241m=\u001b[39m\u001b[38;5;124m'\u001b[39m\u001b[38;5;124mBig5\u001b[39m\u001b[38;5;124m'\u001b[39m)\n\u001b[0;32m      5\u001b[0m \u001b[38;5;66;03m# 数据处理：我们将提取 PM2.5 列以及前 9 小时作为特征\u001b[39;00m\n\u001b[0;32m      6\u001b[0m \u001b[38;5;66;03m# 训练数据中每个月20天，每天24小时，共有12个月\u001b[39;00m\n",
      "File \u001b[1;32mD:\\Anaconda\\envs\\adoenv\\Lib\\site-packages\\pandas\\io\\parsers\\readers.py:1026\u001b[0m, in \u001b[0;36mread_csv\u001b[1;34m(filepath_or_buffer, sep, delimiter, header, names, index_col, usecols, dtype, engine, converters, true_values, false_values, skipinitialspace, skiprows, skipfooter, nrows, na_values, keep_default_na, na_filter, verbose, skip_blank_lines, parse_dates, infer_datetime_format, keep_date_col, date_parser, date_format, dayfirst, cache_dates, iterator, chunksize, compression, thousands, decimal, lineterminator, quotechar, quoting, doublequote, escapechar, comment, encoding, encoding_errors, dialect, on_bad_lines, delim_whitespace, low_memory, memory_map, float_precision, storage_options, dtype_backend)\u001b[0m\n\u001b[0;32m   1013\u001b[0m kwds_defaults \u001b[38;5;241m=\u001b[39m _refine_defaults_read(\n\u001b[0;32m   1014\u001b[0m     dialect,\n\u001b[0;32m   1015\u001b[0m     delimiter,\n\u001b[1;32m   (...)\u001b[0m\n\u001b[0;32m   1022\u001b[0m     dtype_backend\u001b[38;5;241m=\u001b[39mdtype_backend,\n\u001b[0;32m   1023\u001b[0m )\n\u001b[0;32m   1024\u001b[0m kwds\u001b[38;5;241m.\u001b[39mupdate(kwds_defaults)\n\u001b[1;32m-> 1026\u001b[0m \u001b[38;5;28;01mreturn\u001b[39;00m _read(filepath_or_buffer, kwds)\n",
      "File \u001b[1;32mD:\\Anaconda\\envs\\adoenv\\Lib\\site-packages\\pandas\\io\\parsers\\readers.py:620\u001b[0m, in \u001b[0;36m_read\u001b[1;34m(filepath_or_buffer, kwds)\u001b[0m\n\u001b[0;32m    617\u001b[0m _validate_names(kwds\u001b[38;5;241m.\u001b[39mget(\u001b[38;5;124m\"\u001b[39m\u001b[38;5;124mnames\u001b[39m\u001b[38;5;124m\"\u001b[39m, \u001b[38;5;28;01mNone\u001b[39;00m))\n\u001b[0;32m    619\u001b[0m \u001b[38;5;66;03m# Create the parser.\u001b[39;00m\n\u001b[1;32m--> 620\u001b[0m parser \u001b[38;5;241m=\u001b[39m TextFileReader(filepath_or_buffer, \u001b[38;5;241m*\u001b[39m\u001b[38;5;241m*\u001b[39mkwds)\n\u001b[0;32m    622\u001b[0m \u001b[38;5;28;01mif\u001b[39;00m chunksize \u001b[38;5;129;01mor\u001b[39;00m iterator:\n\u001b[0;32m    623\u001b[0m     \u001b[38;5;28;01mreturn\u001b[39;00m parser\n",
      "File \u001b[1;32mD:\\Anaconda\\envs\\adoenv\\Lib\\site-packages\\pandas\\io\\parsers\\readers.py:1620\u001b[0m, in \u001b[0;36mTextFileReader.__init__\u001b[1;34m(self, f, engine, **kwds)\u001b[0m\n\u001b[0;32m   1617\u001b[0m     \u001b[38;5;28mself\u001b[39m\u001b[38;5;241m.\u001b[39moptions[\u001b[38;5;124m\"\u001b[39m\u001b[38;5;124mhas_index_names\u001b[39m\u001b[38;5;124m\"\u001b[39m] \u001b[38;5;241m=\u001b[39m kwds[\u001b[38;5;124m\"\u001b[39m\u001b[38;5;124mhas_index_names\u001b[39m\u001b[38;5;124m\"\u001b[39m]\n\u001b[0;32m   1619\u001b[0m \u001b[38;5;28mself\u001b[39m\u001b[38;5;241m.\u001b[39mhandles: IOHandles \u001b[38;5;241m|\u001b[39m \u001b[38;5;28;01mNone\u001b[39;00m \u001b[38;5;241m=\u001b[39m \u001b[38;5;28;01mNone\u001b[39;00m\n\u001b[1;32m-> 1620\u001b[0m \u001b[38;5;28mself\u001b[39m\u001b[38;5;241m.\u001b[39m_engine \u001b[38;5;241m=\u001b[39m \u001b[38;5;28mself\u001b[39m\u001b[38;5;241m.\u001b[39m_make_engine(f, \u001b[38;5;28mself\u001b[39m\u001b[38;5;241m.\u001b[39mengine)\n",
      "File \u001b[1;32mD:\\Anaconda\\envs\\adoenv\\Lib\\site-packages\\pandas\\io\\parsers\\readers.py:1898\u001b[0m, in \u001b[0;36mTextFileReader._make_engine\u001b[1;34m(self, f, engine)\u001b[0m\n\u001b[0;32m   1895\u001b[0m     \u001b[38;5;28;01mraise\u001b[39;00m \u001b[38;5;167;01mValueError\u001b[39;00m(msg)\n\u001b[0;32m   1897\u001b[0m \u001b[38;5;28;01mtry\u001b[39;00m:\n\u001b[1;32m-> 1898\u001b[0m     \u001b[38;5;28;01mreturn\u001b[39;00m mapping[engine](f, \u001b[38;5;241m*\u001b[39m\u001b[38;5;241m*\u001b[39m\u001b[38;5;28mself\u001b[39m\u001b[38;5;241m.\u001b[39moptions)\n\u001b[0;32m   1899\u001b[0m \u001b[38;5;28;01mexcept\u001b[39;00m \u001b[38;5;167;01mException\u001b[39;00m:\n\u001b[0;32m   1900\u001b[0m     \u001b[38;5;28;01mif\u001b[39;00m \u001b[38;5;28mself\u001b[39m\u001b[38;5;241m.\u001b[39mhandles \u001b[38;5;129;01mis\u001b[39;00m \u001b[38;5;129;01mnot\u001b[39;00m \u001b[38;5;28;01mNone\u001b[39;00m:\n",
      "File \u001b[1;32mD:\\Anaconda\\envs\\adoenv\\Lib\\site-packages\\pandas\\io\\parsers\\c_parser_wrapper.py:93\u001b[0m, in \u001b[0;36mCParserWrapper.__init__\u001b[1;34m(self, src, **kwds)\u001b[0m\n\u001b[0;32m     90\u001b[0m \u001b[38;5;28;01mif\u001b[39;00m kwds[\u001b[38;5;124m\"\u001b[39m\u001b[38;5;124mdtype_backend\u001b[39m\u001b[38;5;124m\"\u001b[39m] \u001b[38;5;241m==\u001b[39m \u001b[38;5;124m\"\u001b[39m\u001b[38;5;124mpyarrow\u001b[39m\u001b[38;5;124m\"\u001b[39m:\n\u001b[0;32m     91\u001b[0m     \u001b[38;5;66;03m# Fail here loudly instead of in cython after reading\u001b[39;00m\n\u001b[0;32m     92\u001b[0m     import_optional_dependency(\u001b[38;5;124m\"\u001b[39m\u001b[38;5;124mpyarrow\u001b[39m\u001b[38;5;124m\"\u001b[39m)\n\u001b[1;32m---> 93\u001b[0m \u001b[38;5;28mself\u001b[39m\u001b[38;5;241m.\u001b[39m_reader \u001b[38;5;241m=\u001b[39m parsers\u001b[38;5;241m.\u001b[39mTextReader(src, \u001b[38;5;241m*\u001b[39m\u001b[38;5;241m*\u001b[39mkwds)\n\u001b[0;32m     95\u001b[0m \u001b[38;5;28mself\u001b[39m\u001b[38;5;241m.\u001b[39munnamed_cols \u001b[38;5;241m=\u001b[39m \u001b[38;5;28mself\u001b[39m\u001b[38;5;241m.\u001b[39m_reader\u001b[38;5;241m.\u001b[39munnamed_cols\n\u001b[0;32m     97\u001b[0m \u001b[38;5;66;03m# error: Cannot determine type of 'names'\u001b[39;00m\n",
      "File \u001b[1;32mparsers.pyx:574\u001b[0m, in \u001b[0;36mpandas._libs.parsers.TextReader.__cinit__\u001b[1;34m()\u001b[0m\n",
      "File \u001b[1;32mparsers.pyx:663\u001b[0m, in \u001b[0;36mpandas._libs.parsers.TextReader._get_header\u001b[1;34m()\u001b[0m\n",
      "File \u001b[1;32mparsers.pyx:874\u001b[0m, in \u001b[0;36mpandas._libs.parsers.TextReader._tokenize_rows\u001b[1;34m()\u001b[0m\n",
      "File \u001b[1;32mparsers.pyx:891\u001b[0m, in \u001b[0;36mpandas._libs.parsers.TextReader._check_tokenize_status\u001b[1;34m()\u001b[0m\n",
      "File \u001b[1;32mparsers.pyx:2053\u001b[0m, in \u001b[0;36mpandas._libs.parsers.raise_parser_error\u001b[1;34m()\u001b[0m\n",
      "\u001b[1;31mUnicodeDecodeError\u001b[0m: 'big5' codec can't decode byte 0xc8 in position 0: illegal multibyte sequence"
     ]
    }
   ],
   "source": [
    "# 加载训练数据\n",
    "train_data = pd.read_csv('train.csv', encoding='Big5')\n",
    "test_data = pd.read_csv('test.csv', encoding='Big5')\n",
    "\n",
    "# 数据处理：我们将提取 PM2.5 列以及前 9 小时作为特征\n",
    "# 训练数据中每个月20天，每天24小时，共有12个月\n",
    "def process_train_data(train_data):\n",
    "    data = train_data.iloc[:, 3:].to_numpy()  # 从第4列开始取观测数据\n",
    "    data[data == 'NR'] = 0  # 将 'NR' 替换为 0\n",
    "    data = data.astype(float)  # 将数据类型转为浮点数\n",
    "    \n",
    "    month_data = {}\n",
    "    for month in range(12):\n",
    "        month_data[month] = np.empty((18, 480))  # 每月 20 天 * 24 小时 = 480 小时\n",
    "        for day in range(20):\n",
    "            month_data[month][:, day * 24: (day + 1) * 24] = data[18 * (20 * month + day): 18 * (20 * month + day + 1), :]\n",
    "    \n",
    "    x_train = []\n",
    "    y_train = []\n",
    "    \n",
    "    for month in range(12):\n",
    "        for i in range(471):  # 每个月有 471 个样本，每10小时取一次样本\n",
    "            x_train.append(month_data[month][:, i:i + 9].reshape(-1))\n",
    "            y_train.append(month_data[month][9, i + 9])  # 第10小时的PM2.5作为y值\n",
    "    \n",
    "    x_train = np.array(x_train)  # (5652, 162)\n",
    "    y_train = np.array(y_train)  # (5652,)\n",
    "    \n",
    "    return x_train, y_train\n"
   ]
  },
  {
   "cell_type": "code",
   "execution_count": null,
   "id": "530fc09f-3378-4b4d-ae4f-5620659dcec5",
   "metadata": {},
   "outputs": [],
   "source": [
    "# 加载测试数据并处理\n",
    "def process_test_data(test_data):\n",
    "    test_x = []\n",
    "    for i in range(240):  # 总共有240笔测试数据\n",
    "        test_x.append(test_data.iloc[18 * i: 18 * (i + 1), 2:].to_numpy().reshape(-1))\n",
    "    test_x = np.array(test_x)\n",
    "    return test_x\n",
    "\n"
   ]
  },
  {
   "cell_type": "code",
   "execution_count": null,
   "id": "804ab50e-f59e-41be-88fb-a7c8d0a39c0d",
   "metadata": {},
   "outputs": [],
   "source": [
    "# 特征归一化\n",
    "def normalize(x):\n",
    "    mean_x = np.mean(x, axis=0)  # 按列计算均值\n",
    "    std_x = np.std(x, axis=0)    # 按列计算标准差\n",
    "    for i in range(len(x)):\n",
    "        x[i] = (x[i] - mean_x) / std_x  # 标准化\n",
    "    return x, mean_x, std_x\n"
   ]
  },
  {
   "cell_type": "code",
   "execution_count": null,
   "id": "2301d977-8f56-4988-81b7-00c0480ca52c",
   "metadata": {},
   "outputs": [],
   "source": [
    "# Adagrad算法实现线性回归\n",
    "def train(x_train, y_train, learning_rate=0.01, iterations=10000):\n",
    "    dim = x_train.shape[1] + 1  # 加1是为了bias\n",
    "    w = np.zeros(dim)  # 初始化权重\n",
    "    x_train = np.concatenate((np.ones((x_train.shape[0], 1)), x_train), axis=1)  # 加一列bias\n",
    "\n",
    "    adagrad = np.zeros(dim)  # Adagrad的累积梯度\n",
    "    eps = 1e-8  # 平滑项\n",
    "    for t in range(iterations):\n",
    "        loss = np.dot(x_train, w) - y_train  # 预测误差\n",
    "        gradient = 2 * np.dot(x_train.T, loss) / x_train.shape[0]  # 计算梯度\n",
    "        adagrad += gradient**2  # 累加梯度平方\n",
    "        w -= learning_rate * gradient / np.sqrt(adagrad + eps)  # 更新权重\n",
    "        \n",
    "        if t % 1000 == 0:\n",
    "            cost = np.sqrt(np.mean(loss**2))  # RMSE\n",
    "            print(f\"Iteration {t}: Cost = {cost}\")\n",
    "    \n",
    "    return w\n",
    "\n",
    "# 模型预测\n",
    "def predict(x_test, w, mean_x, std_x):\n",
    "    x_test = (x_test - mean_x) / std_x  # 标准化\n",
    "    x_test = np.concatenate((np.ones((x_test.shape[0], 1)), x_test), axis=1)  # 加一列bias\n",
    "    return np.dot(x_test, w)\n"
   ]
  },
  {
   "cell_type": "code",
   "execution_count": null,
   "id": "054d7556-1903-44c7-b8d1-b961f7e19365",
   "metadata": {},
   "outputs": [],
   "source": [
    "# 主函数\n",
    "x_train, y_train = process_train_data(train_data)\n",
    "x_train, mean_x, std_x = normalize(x_train)\n",
    "\n",
    "# 训练模型\n",
    "w = train(x_train, y_train)\n",
    "\n",
    "# 处理测试数据并预测\n",
    "x_test = process_test_data(test_data)\n",
    "y_test_pred = predict(x_test, w, mean_x, std_x)\n",
    "\n",
    "# 保存结果\n",
    "with open('/mnt/data/predict.csv', 'w') as f:\n",
    "    writer = csv.writer(f)\n",
    "    writer.writerow(['id', 'value'])\n",
    "    for i in range(len(y_test_pred)):\n",
    "        writer.writerow([f'id_{i}', y_test_pred[i]])\n",
    "\n",
    "print(\"预测完成，结果已保存为 predict.csv 文件。\")"
   ]
  }
 ],
 "metadata": {
  "kernelspec": {
   "display_name": "pytorchEnv",
   "language": "python",
   "name": "pytorchenv"
  },
  "language_info": {
   "codemirror_mode": {
    "name": "ipython",
    "version": 3
   },
   "file_extension": ".py",
   "mimetype": "text/x-python",
   "name": "python",
   "nbconvert_exporter": "python",
   "pygments_lexer": "ipython3",
   "version": "3.12.4"
  }
 },
 "nbformat": 4,
 "nbformat_minor": 5
}
