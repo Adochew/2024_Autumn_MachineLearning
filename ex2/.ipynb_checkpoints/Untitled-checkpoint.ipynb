{
 "cells": [
  {
   "cell_type": "code",
   "execution_count": 1,
   "id": "43c5583d-74d2-4954-9e0e-4fa6c45849ee",
   "metadata": {},
   "outputs": [],
   "source": [
    "import pandas as pd\n",
    "from sklearn.model_selection import train_test_split\n",
    "from sklearn.preprocessing import OneHotEncoder\n"
   ]
  },
  {
   "cell_type": "code",
   "execution_count": 20,
   "id": "47085eab-b24d-4106-ac16-eee5a2948604",
   "metadata": {},
   "outputs": [
    {
     "ename": "TypeError",
     "evalue": "'Index' object is not callable",
     "output_type": "error",
     "traceback": [
      "\u001b[1;31m---------------------------------------------------------------------------\u001b[0m",
      "\u001b[1;31mTypeError\u001b[0m                                 Traceback (most recent call last)",
      "Cell \u001b[1;32mIn[20], line 18\u001b[0m\n\u001b[0;32m     15\u001b[0m \u001b[38;5;66;03m# 转换为DataFrame并添加列名\u001b[39;00m\n\u001b[0;32m     16\u001b[0m encoded_categorical_df \u001b[38;5;241m=\u001b[39m pd\u001b[38;5;241m.\u001b[39mDataFrame(encoded_categorical, columns\u001b[38;5;241m=\u001b[39mencoder\u001b[38;5;241m.\u001b[39mget_feature_names_out(categorical_features))\n\u001b[1;32m---> 18\u001b[0m \u001b[38;5;28mprint\u001b[39m(encoded_categorical_df\u001b[38;5;241m.\u001b[39mcolumns())\n\u001b[0;32m     19\u001b[0m \u001b[38;5;66;03m# 保留连续特征\u001b[39;00m\n\u001b[0;32m     20\u001b[0m continuous_df \u001b[38;5;241m=\u001b[39m data[continuous_features]\n",
      "\u001b[1;31mTypeError\u001b[0m: 'Index' object is not callable"
     ]
    }
   ],
   "source": [
    "# 读取数据集\n",
    "data = pd.read_csv('train.csv')\n",
    "\n",
    "# 定义离散特征和连续特征\n",
    "categorical_features = ['workclass', 'education', 'marital_status', 'occupation', 'relationship', 'race', 'sex', 'native_country']\n",
    "continuous_features = ['age', 'fnlwgt', 'education_num', 'capital_gain', 'capital_loss', 'hours_per_week']\n",
    "\n",
    "# 对标签进行二分类\n",
    "data['income'] = data['income'].apply(lambda x: 1 if x.strip() == '>50K' else 0)\n",
    "\n",
    "# 处理离散特征（独热编码）\n",
    "encoder = OneHotEncoder(sparse_output=False)\n",
    "encoded_categorical = encoder.fit_transform(data[categorical_features])\n",
    "\n",
    "# 转换为DataFrame并添加列名\n",
    "encoded_categorical_df = pd.DataFrame(encoded_categorical, columns=encoder.get_feature_names_out(categorical_features))\n",
    "\n",
    "# 保留连续特征\n",
    "continuous_df = data[continuous_features]\n",
    "\n",
    "# 合并独热编码后的离散特征和连续特征\n",
    "X = pd.concat([encoded_categorical_df, continuous_df], axis=1)\n",
    "\n",
    "# 目标标签\n",
    "Y = data['income']\n",
    "\n",
    "# 划分训练集和测试集\n",
    "X_train, X_test, Y_train, Y_test = train_test_split(X, Y, test_size=0.2, random_state=42)\n",
    "\n",
    "# 查看处理后的训练集\n",
    "print(X_train.head())\n",
    "print(Y_train.head())\n",
    "print(X_train.columns())\n"
   ]
  },
  {
   "cell_type": "code",
   "execution_count": null,
   "id": "0eda163e-53bd-4fa5-8d1c-4671b7a9f9bf",
   "metadata": {},
   "outputs": [],
   "source": []
  }
 ],
 "metadata": {
  "kernelspec": {
   "display_name": "pytorchEnv",
   "language": "python",
   "name": "pytorchenv"
  },
  "language_info": {
   "codemirror_mode": {
    "name": "ipython",
    "version": 3
   },
   "file_extension": ".py",
   "mimetype": "text/x-python",
   "name": "python",
   "nbconvert_exporter": "python",
   "pygments_lexer": "ipython3",
   "version": "3.12.4"
  }
 },
 "nbformat": 4,
 "nbformat_minor": 5
}
